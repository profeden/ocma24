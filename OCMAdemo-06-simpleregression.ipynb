{
 "cells": [
  {
   "cell_type": "markdown",
   "id": "a01312d5-f051-4ddd-a883-f516b4dd54b2",
   "metadata": {},
   "source": [
    "# Simple Linear Regression \n",
    "\n",
    "This example uses the `scipy.stats` module to find the best fit regression line given the *response* and *predictor* variables in the data set provided. \n",
    "\n",
    "This data set is imported into a data frame, which is subsequently passed into the `linregress()` method."
   ]
  },
  {
   "cell_type": "code",
   "execution_count": 2,
   "id": "fc54efd8-161c-4899-81e5-6719864e6d8b",
   "metadata": {
    "tags": []
   },
   "outputs": [
    {
     "name": "stdout",
     "output_type": "stream",
     "text": [
      "LinregressResult(slope=6.000000000000001, intercept=3.9999999999999964, rvalue=0.9728166526882823, pvalue=0.0010983582017795293, stderr=0.7141428428542851, intercept_stderr=3.5227829907617076)\n"
     ]
    }
   ],
   "source": [
    "import pandas as pd\n",
    "import scipy.stats as st\n",
    "import statsmodels.formula.api as smf\n",
    "df = pd.read_csv('Reaction.csv')\n",
    "print(st.linregress(df['Drinks'],df['Reaction']))"
   ]
  }
 ],
 "metadata": {
  "kernelspec": {
   "display_name": "Python 3 (ipykernel)",
   "language": "python",
   "name": "python3"
  },
  "language_info": {
   "codemirror_mode": {
    "name": "ipython",
    "version": 3
   },
   "file_extension": ".py",
   "mimetype": "text/x-python",
   "name": "python",
   "nbconvert_exporter": "python",
   "pygments_lexer": "ipython3",
   "version": "3.11.7"
  }
 },
 "nbformat": 4,
 "nbformat_minor": 5
}
