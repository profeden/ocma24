{
 "cells": [
  {
   "cell_type": "code",
   "execution_count": 3,
   "id": "1867c2eb-1c87-4dbb-96f4-9519da50e9c6",
   "metadata": {
    "tags": []
   },
   "outputs": [],
   "source": [
    "# Load necessary packages\n",
    "import matplotlib.pyplot as plt\n",
    "import pandas as pd\n",
    "from statsmodels.formula.api import ols\n",
    "import statsmodels.graphics.gofplots as smg"
   ]
  },
  {
   "cell_type": "markdown",
   "id": "f2aad756-59e8-4239-b4af-516e0804bd73",
   "metadata": {},
   "source": [
    "## Measuring Association Between Pairs of Variables\n",
    "\n",
    "A **correlation matrix** is a table that shows the correlation coefficients between each pair of variables. A correlation matrix for a collection of $n$ variables $X_{1}, X_{2}, ...X_{n}$  is an $n X n$  matrix where the $ij^{th}$ entry is the correlation coefficient of $X_{i}$ and $X_{j}$ . Note that the diagonal entries are always 1 because the correlation between a variable and itself is . Further, the correlation matrix is symmetric. That is, the $ij^{th}$ entry is the same as the $ji^{th}$ entry."
   ]
  },
  {
   "cell_type": "code",
   "execution_count": 6,
   "id": "65674285-6985-4ca9-91ae-c42194d5d478",
   "metadata": {
    "tags": []
   },
   "outputs": [
    {
     "name": "stdout",
     "output_type": "stream",
     "text": [
      "          Exam1     Exam2     Exam3     Exam4\n",
      "Exam1  1.000000  0.078613  0.256859  0.261306\n",
      "Exam2  0.078613  1.000000  0.271642  0.318124\n",
      "Exam3  0.256859  0.271642  1.000000  0.277656\n",
      "Exam4  0.261306  0.318124  0.277656  1.000000\n"
     ]
    }
   ],
   "source": [
    "scores = pd.read_csv(\"ExamScores.csv\")\n",
    "print(scores[['Exam1','Exam2','Exam3','Exam4']].corr())"
   ]
  },
  {
   "cell_type": "markdown",
   "id": "4e09af63-05d8-43b4-aeca-925696fb81be",
   "metadata": {},
   "source": [
    "## Fit Linear Model with Multiple Predictors"
   ]
  },
  {
   "cell_type": "code",
   "execution_count": 8,
   "id": "b648e111-e490-4700-97a0-f51ed205a04d",
   "metadata": {
    "tags": []
   },
   "outputs": [],
   "source": [
    "# Load data\n",
    "df = pd.read_csv(\"https://data-analytics.zybooks.com/mtcars.csv\")\n",
    "df_cars = df[[\"mpg\", \"wt\", \"qsec\"]]"
   ]
  },
  {
   "cell_type": "markdown",
   "id": "ee27c057-c89b-4bcf-94d4-0c6b53af3841",
   "metadata": {},
   "source": [
    "After obtaining the DataFrame, we use the `ols` function from the `statsmodels.formula.api` module to find the best linear model.The *mpg ~ wt+qsec* string define mpg as the reponse variable. Both *wt* and *qsec* variable are predictors.\n",
    "\n",
    "Running the function yields useful data such as  \n",
    "\n",
    "1. value of the coefficents (and corresponding confidence intervals) for each predictor\n",
    "3. both Pearson and F-values\n",
    "3. degree of freedom\n",
    "\n",
    "\n"
   ]
  },
  {
   "cell_type": "code",
   "execution_count": 10,
   "id": "b9ff6113-c8ff-43e8-9b12-e47e96f9fcf7",
   "metadata": {
    "tags": []
   },
   "outputs": [
    {
     "name": "stdout",
     "output_type": "stream",
     "text": [
      "Model\n",
      "\n",
      "                            OLS Regression Results                            \n",
      "==============================================================================\n",
      "Dep. Variable:                    mpg   R-squared:                       0.826\n",
      "Model:                            OLS   Adj. R-squared:                  0.814\n",
      "Method:                 Least Squares   F-statistic:                     69.03\n",
      "Date:                Thu, 23 May 2024   Prob (F-statistic):           9.39e-12\n",
      "Time:                        23:48:11   Log-Likelihood:                -74.360\n",
      "No. Observations:                  32   AIC:                             154.7\n",
      "Df Residuals:                      29   BIC:                             159.1\n",
      "Df Model:                           2                                         \n",
      "Covariance Type:            nonrobust                                         \n",
      "==============================================================================\n",
      "                 coef    std err          t      P>|t|      [0.025      0.975]\n",
      "------------------------------------------------------------------------------\n",
      "Intercept     19.7462      5.252      3.760      0.001       9.005      30.488\n",
      "wt            -5.0480      0.484    -10.430      0.000      -6.038      -4.058\n",
      "qsec           0.9292      0.265      3.506      0.001       0.387       1.471\n",
      "==============================================================================\n",
      "Omnibus:                        3.357   Durbin-Watson:                   1.496\n",
      "Prob(Omnibus):                  0.187   Jarque-Bera (JB):                2.542\n",
      "Skew:                           0.690   Prob(JB):                        0.281\n",
      "Kurtosis:                       3.032   Cond. No.                         209.\n",
      "==============================================================================\n",
      "\n",
      "Notes:\n",
      "[1] Standard Errors assume that the covariance matrix of the errors is correctly specified.\n"
     ]
    }
   ],
   "source": [
    "\n",
    "Y = df_cars[\"mpg\"]\n",
    "X = df_cars[[\"wt\", \"qsec\"]]\n",
    "model = ols('mpg ~ wt+qsec', data=df_cars).fit()\n",
    "\n",
    "print(\"Model\\n\")\n",
    "print(model.summary())"
   ]
  },
  {
   "cell_type": "markdown",
   "id": "c5baca7f-1c41-41ef-ac81-d0a394ee6025",
   "metadata": {},
   "source": [
    "## Plotting Sample Datapoints\n",
    "\n",
    "Using `matplotlib.pyplot`, the following plots the response variable with each predictor independently."
   ]
  },
  {
   "cell_type": "code",
   "execution_count": 10,
   "id": "82db261f-88ab-40ab-bc49-ce0d091b350b",
   "metadata": {
    "tags": []
   },
   "outputs": [
    {
     "data": {
      "image/png": "[encoded data removed]",
      "text/plain": [
       "<Figure size 1000x400 with 2 Axes>"
      ]
     },
     "metadata": {},
     "output_type": "display_data"
    }
   ],
   "source": [
    "# Plot on each axis\n",
    "fig = plt.figure(figsize=(10, 4))\n",
    "ax = fig.add_subplot(1, 2, 1)\n",
    "plt.plot(df_cars[\"wt\"], df_cars[\"mpg\"], 'o', color='black')\n",
    "plt.title('MPG against Weight')\n",
    "plt.xlabel('Weight (1000 lbs)')\n",
    "plt.ylabel('MPG')\n",
    "\n",
    "ax = fig.add_subplot(1, 2, 2)\n",
    "plt.plot(df_cars[\"qsec\"], df_cars[\"mpg\"], 'o', color='black')\n",
    "plt.title('MPG against 1/4 mile time')\n",
    "plt.xlabel('Time (1/4 mile)')\n",
    "plt.ylabel('MPG')\n",
    "\n",
    "plt.show()"
   ]
  }
 ],
 "metadata": {
  "kernelspec": {
   "display_name": "Python 3 (ipykernel)",
   "language": "python",
   "name": "python3"
  },
  "language_info": {
   "codemirror_mode": {
    "name": "ipython",
    "version": 3
   },
   "file_extension": ".py",
   "mimetype": "text/x-python",
   "name": "python",
   "nbconvert_exporter": "python",
   "pygments_lexer": "ipython3",
   "version": "3.11.7"
  }
 },
 "nbformat": 4,
 "nbformat_minor": 5
}
