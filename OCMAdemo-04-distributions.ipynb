{
 "cells": [
  {
   "cell_type": "markdown",
   "id": "fb8cf1e1-4ca6-41dd-9e23-a56755d2e974",
   "metadata": {
    "tags": []
   },
   "source": [
    "# Types of Distribution"
   ]
  },
  {
   "cell_type": "markdown",
   "id": "6b2d2816-5da2-4266-bf1d-71dd7d97b9f0",
   "metadata": {
    "tags": []
   },
   "source": [
    "## Binomial Distribution"
   ]
  },
  {
   "cell_type": "code",
   "execution_count": 2,
   "id": "aba3bfd2-3ef7-4c4f-8bde-54e9323fd3b3",
   "metadata": {},
   "outputs": [],
   "source": [
    "from scipy.stats import binom\n",
    "\n",
    "# Defines the number of successes, the number of trials, and the probability of a success in each trial\n",
    "k, n, p = 5,10, 0.7"
   ]
  },
  {
   "cell_type": "markdown",
   "id": "1973f2c9-1e8c-4238-b236-6bebc6043b33",
   "metadata": {},
   "source": [
    "`binom.pmf` can be used to calculate the probability of `k` successes for a given `n `and `p`."
   ]
  },
  {
   "cell_type": "code",
   "execution_count": 5,
   "id": "6b593e30-8191-4fc1-bc10-b1183b0edfe8",
   "metadata": {
    "tags": []
   },
   "outputs": [
    {
     "name": "stdout",
     "output_type": "stream",
     "text": [
      "0.10291934520000004\n"
     ]
    }
   ],
   "source": [
    "P = binom.pmf(k, n, p)\n",
    "print(P)"
   ]
  },
  {
   "cell_type": "markdown",
   "id": "16c77fb6-98de-42ac-a9d7-95a69734564c",
   "metadata": {},
   "source": [
    "`binom.cdf` gives the cumulative probability of `k` or fewer successes for a given `n` and `p`"
   ]
  },
  {
   "cell_type": "code",
   "execution_count": 13,
   "id": "907082c9-2016-416d-ac07-1e7b64530cce",
   "metadata": {
    "tags": []
   },
   "outputs": [
    {
     "name": "stdout",
     "output_type": "stream",
     "text": [
      "0.15026833260000005\n"
     ]
    }
   ],
   "source": [
    "cp = binom.cdf(k, n, p)\n",
    "print(cp)"
   ]
  },
  {
   "cell_type": "markdown",
   "id": "909a1edb-6639-4d10-8713-491461051aef",
   "metadata": {},
   "source": [
    "The *mean* and *variance* of the distribution"
   ]
  },
  {
   "cell_type": "code",
   "execution_count": 24,
   "id": "662d8e94-7530-4f1c-a327-c35c1d1bda4c",
   "metadata": {
    "tags": []
   },
   "outputs": [
    {
     "name": "stdout",
     "output_type": "stream",
     "text": [
      "Mean:7.0, Variance:2.1000000000000005\n"
     ]
    }
   ],
   "source": [
    "mean  =  binom.stats(n, p, moments = 'm')\n",
    "\n",
    "var = binom.stats(n, p, moments='v')\n",
    "print(\"Mean:\" + str(mean) + \", Variance:\" + str(var))"
   ]
  },
  {
   "cell_type": "markdown",
   "id": "fbb19842-87c7-4f41-bed7-2e1ec8f9b9b5",
   "metadata": {
    "tags": []
   },
   "source": [
    "## Hypergeometric Distribution"
   ]
  },
  {
   "cell_type": "code",
   "execution_count": 49,
   "id": "7089f06b-6bd9-4283-b74c-762919a7c16a",
   "metadata": {},
   "outputs": [],
   "source": [
    "from scipy.stats import hypergeom\n",
    "import matplotlib.pyplot as plt\n",
    "\n",
    "# Defines the number of successes in the sample, size of the population, number of successes in the population, and size of the sample\n",
    "k, N, x, n = 12, 52, 26, 20"
   ]
  },
  {
   "cell_type": "markdown",
   "id": "61e6d37e-7faa-4481-874d-e0fac718da53",
   "metadata": {},
   "source": [
    "`hypergeom.pmf` can be used to calculate the probability of `k` successes for a given `N`, `x`, and `n`."
   ]
  },
  {
   "cell_type": "code",
   "execution_count": null,
   "id": "9e8d74e3-1cf5-45a0-beb7-8db550011750",
   "metadata": {},
   "outputs": [],
   "source": [
    "P = hypergeom.pmf(k, N, x, n, loc=0)\n",
    "print(P)"
   ]
  },
  {
   "cell_type": "markdown",
   "id": "b9871d83-61a1-4207-bf0c-75a3e4d3567c",
   "metadata": {},
   "source": [
    "`hypergeom.cdf` gives the cumulative probability of `k` or fewer successes for a given `N`, `x`, and `n`."
   ]
  },
  {
   "cell_type": "code",
   "execution_count": 34,
   "id": "8979d83c-474b-4004-9103-bc47ee9a5a5c",
   "metadata": {
    "tags": []
   },
   "outputs": [
    {
     "name": "stdout",
     "output_type": "stream",
     "text": [
      "0.923319801344445\n"
     ]
    }
   ],
   "source": [
    "cp = hypergeom.cdf(k, N, x, n)\n",
    "print(cp)"
   ]
  },
  {
   "cell_type": "markdown",
   "id": "d17ccb9c-d53a-4403-a386-91bc4768106b",
   "metadata": {},
   "source": [
    "The *mean* and *variance* are calculated using `hypergeom.stats`."
   ]
  },
  {
   "cell_type": "code",
   "execution_count": 51,
   "id": "3a4c3939-0bf1-431b-8a18-a9e65856bc75",
   "metadata": {
    "tags": []
   },
   "outputs": [
    {
     "name": "stdout",
     "output_type": "stream",
     "text": [
      "Mean:10.0, Variance:3.1372549019607843\n"
     ]
    }
   ],
   "source": [
    "mean = hypergeom.stats(N, x, n, loc=0, moments='m')\n",
    "\n",
    "var = hypergeom.stats(N, x, n, loc=0, moments='v')\n",
    "print('Mean:' + str(mean) + ', Variance:' +  str(var))"
   ]
  },
  {
   "cell_type": "markdown",
   "id": "e5e9452f-8466-415f-8c10-dea61f2670e9",
   "metadata": {},
   "source": [
    "## Poison Distrubution"
   ]
  },
  {
   "cell_type": "code",
   "execution_count": 2,
   "id": "3073cb31-b24b-4034-aa44-090bc88a6627",
   "metadata": {
    "tags": []
   },
   "outputs": [
    {
     "name": "stdout",
     "output_type": "stream",
     "text": [
      "0.0727650466416229\n",
      "0.8757734291709649\n",
      "9.0\n",
      "9.0\n",
      "[11  7 13  7  9 11 10 13 16  7]\n"
     ]
    }
   ],
   "source": [
    "from scipy.stats import poisson\n",
    "\n",
    "# Defines the desired number of successes and the mean of the distribution\n",
    "x, lam= 12, 9\n",
    "\n",
    "# poisson.pmf can be used to calculate the probability of x successes for a given lambda.\n",
    "# Calculates the probability of x successes given the defined lambda\n",
    "P = poisson.pmf(x, lam)\n",
    "print(P)\n",
    "\n",
    "# poisson.cdf gives the cumulative probability of x or fewer successes for a given lambda.\n",
    "# Calculates the cumulative probability of x or fewer successes given the defined lambda\n",
    "cp = poisson.cdf(x, lam)\n",
    "print(cp)\n",
    "\n",
    "# The mean and variance are calculated using poisson.stats.\n",
    "# Returns the mean of the distribution\n",
    "mean = poisson.stats(lam, moments='m')\n",
    "print(mean)\n",
    "\n",
    "# Returns the variance of the distribution \n",
    "var = poisson.stats(lam, moments='v')\n",
    "print(var)\n",
    "\n",
    "# poisson.rvs can be used to generate a set of random numbers with the Poisson distribution defined by lambda.\n",
    "# Generates 10 random numbers with a Poisson distribution with a mean of lam\n",
    "r = poisson.rvs(lam, size=10)\n",
    "print(r)"
   ]
  },
  {
   "cell_type": "markdown",
   "id": "352c9777-ade4-4748-a77d-c7a15938f72e",
   "metadata": {},
   "source": [
    "## T distribution"
   ]
  },
  {
   "cell_type": "code",
   "execution_count": null,
   "id": "2ca77de5-db33-486c-b6fc-3c58fff20091",
   "metadata": {},
   "outputs": [],
   "source": [
    "import scipy.stats as st\n",
    "\n",
    "# For a t-distribution, if the degrees of freedom is 30, the mean is 0,\n",
    "# and the standard deviation is 1, what is P(t < -0.25)?\n",
    "print(st.t.cdf(-0.25, 30, 0, 1))\n",
    "\n",
    "# For a t-distribution, if the degrees of freedom is 30, the mean is 0,\n",
    "# and the standard deviation is 1, what is P(t < 1.5)?\n",
    "print(st.t.cdf(1.5, 30, 0, 1))\n",
    "\n",
    "# For a t-distribution, if the degrees of freedom is 30, the mean is 0,\n",
    "# and the standard deviation is 1, what is P(t > -0.25)?\n",
    "print(st.t.sf(-0.25, 30, 0, 1))\n",
    "\n",
    "# For a t-distribution, if the degrees of freedom is 30, the mean is 0,\n",
    "# and the standard deviation is 1, what is P(t > 1.5)?\n",
    "print(st.t.sf(1.5, 30, 0, 1))\n",
    "\n",
    "# To find the probability between two critical values, \n",
    "# the difference between the two probabilities is calculated.\n",
    "# For a t-distribution, if the degrees of freedom is 30, the mean is 0,\n",
    "# and the standard deviation is 1, what is P(-0.25 < t < 1.5)?\n",
    "print(st.t.cdf(1.5, 30, 0, 1) - st.t.cdf(-0.25, 30, 0, 1))\n",
    "\n",
    "# For a t-distribution, if the degrees of freedom is 30, the mean is 0,\n",
    "# and the standard deviation is 1, what is P(1.5 < t < 2.85)?\n",
    "print(st.t.cdf(2.85, 30, 0, 1) - st.t.cdf(1.5, 30, 0, 1))\n",
    "\n",
    "# Both t.cdf() and t.sf() can also be used for t-distributions \n",
    "# with different degrees of freedom and when the mean is \n",
    "# not 0 or the standard deviation is not 1.\n",
    "# For a t-distribution, if the degrees of freedom is 59, the mean is 55,\n",
    "# and the standard deviation is 7.5, what is P(t < 62)?\n",
    "print(st.t.cdf(62, 59, 55, 7.5))\n",
    "\n",
    "# For a t-distribution, if the degrees of freedom is 34, the mean is 55,\n",
    "# and the standard deviation is 7.5, what is P(t > 51)?\n",
    "print(st.t.sf(51, 34, 55, 7.5))\n",
    "\n",
    "# For a t-distribution, if the degrees of freedom is 59, the mean is 55,\n",
    "# and the standard deviation is 7.5, what is P(49 < t < 60)?\n",
    "print(st.t.cdf(60, 59, 55, 7.5) - st.t.cdf(49, 59, 55, 7.5))"
   ]
  },
  {
   "cell_type": "markdown",
   "id": "aadc4aa8-e99a-4c43-83db-6596372b2448",
   "metadata": {},
   "source": [
    "## F-distribution"
   ]
  },
  {
   "cell_type": "code",
   "execution_count": null,
   "id": "f1f04b7b-76a3-4578-930e-9e45ce882f13",
   "metadata": {},
   "outputs": [],
   "source": [
    "import scipy.stats as st\n",
    "\n",
    "# For an F-distribution, if the degrees of freedom between samples is 2\n",
    "# and the degrees of freedom within samples is 5, what is P(F < 2)?\n",
    "print(st.f.cdf(2, 2, 5))\n",
    "\n",
    "# f.sf(f, dfb, dfw) returns the probability of  being greater than a critical value f for an -distribution with  equal to dfb and  equal to dfw.\n",
    "# For an F-distribution, if the degrees of freedom between samples is 2\n",
    "# and the degrees of freedom within samples is 5, what is P(F > 3.5)?\n",
    "print(st.f.sf(3.5, 2, 5))\n",
    "\n",
    "# To find the probability between two critical values, the difference between the two probabilities is calculated.\n",
    "# For an F-distribution, if the degrees of freedom between samples is 2\n",
    "# and the degrees of freedom within samples is 5, what is P(2 < F < 3)?\n",
    "print(st.f.cdf(3, 2, 5) - st.f.cdf(2, 2, 5))"
   ]
  },
  {
   "cell_type": "markdown",
   "id": "ffe2cc29-a2ae-48db-b8c5-444fef58e375",
   "metadata": {},
   "source": [
    "## Chi Square Distribution"
   ]
  },
  {
   "cell_type": "code",
   "execution_count": 4,
   "id": "a3f67e31-24c2-4ee0-a5d8-8b8b1a9b535e",
   "metadata": {
    "tags": []
   },
   "outputs": [
    {
     "name": "stdout",
     "output_type": "stream",
     "text": [
      "0.02496315095256541\n",
      "1.689869180677355\n"
     ]
    }
   ],
   "source": [
    "from scipy.stats import chi2\n",
    "\n",
    "# Defines the degrees of freedom and chi-square_0\n",
    "df = 7\n",
    "x2 =  1.689\n",
    "\n",
    "# chi2.cdf can be used to calculate the area under the curve between 0 and chi-square_0.\n",
    "# Calculates the area under the curve between 0 and chi-square_0\n",
    "area = chi2.cdf(x2, df)\n",
    "print(area)\n",
    "\n",
    "# Conversely, if the area is defined, chi2.ppf gives the chi-square_0 value, or percentile, necessary to obtain that area.\n",
    "# Defines an area under the curve\n",
    "a = 0.025\n",
    "# Calculates the percentile\n",
    "perc = chi2.ppf(a, df)\n",
    "print(perc)"
   ]
  },
  {
   "cell_type": "code",
   "execution_count": null,
   "id": "5df7a07c-df51-4ef0-919c-ed31e4b0926a",
   "metadata": {},
   "outputs": [],
   "source": []
  }
 ],
 "metadata": {
  "kernelspec": {
   "display_name": "Python 3 (ipykernel)",
   "language": "python",
   "name": "python3"
  },
  "language_info": {
   "codemirror_mode": {
    "name": "ipython",
    "version": 3
   },
   "file_extension": ".py",
   "mimetype": "text/x-python",
   "name": "python",
   "nbconvert_exporter": "python",
   "pygments_lexer": "ipython3",
   "version": "3.11.7"
  }
 },
 "nbformat": 4,
 "nbformat_minor": 5
}
