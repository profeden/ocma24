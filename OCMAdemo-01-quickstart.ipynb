{
 "cells": [
  {
   "cell_type": "markdown",
   "id": "26fc6a63-ce49-4074-b32f-d7bb9a502e51",
   "metadata": {},
   "source": [
    "# Juypter Notebook Example"
   ]
  },
  {
   "cell_type": "markdown",
   "id": "7d13640d-db7b-450a-86d7-fef76a25043e",
   "metadata": {},
   "source": [
    "You can use notebooks to combine documentation and code.  Student instructions can be interpersed with sample Code.  Blocks of text can be formatted using markdown language.\n",
    "\n",
    "To render the formatted text, execute this block as \"Markdown\" instead of \"Code\"\n",
    "\n",
    "This is **bold**, *italics* and `code` format.\n",
    "\n",
    "\n",
    "Even more sophisticated constructs like tables can be created\n",
    "\n",
    "| ID     | Some Column | Another Column |\n",
    "| :---   |    :----:   |       ---: |\n",
    "| 1      | value 1     | value 1a   |\n",
    "| 2      | value 2     | value 2a   |\n",
    "\n",
    "\n",
    "You can get more detail formatting information [here](https://www.markdownguide.org/cheat-sheet/)\n",
    "\n",
    "The block below contains Python code . If you this as a \"Code\"...the commands will executed on a Python interpreter and the results will be printed right below it"
   ]
  },
  {
   "cell_type": "code",
   "execution_count": 18,
   "id": "a0e2b5c9-8758-4885-93f7-7a1d49f3fc23",
   "metadata": {
    "tags": []
   },
   "outputs": [
    {
     "name": "stdout",
     "output_type": "stream",
     "text": [
      "hello world\n"
     ]
    }
   ],
   "source": [
    "print(\"hello world\")"
   ]
  },
  {
   "cell_type": "code",
   "execution_count": null,
   "id": "7652d0c7-4aa7-4578-a0cc-51c8562805d9",
   "metadata": {},
   "outputs": [],
   "source": []
  }
 ],
 "metadata": {
  "kernelspec": {
   "display_name": "Python 3 (ipykernel)",
   "language": "python",
   "name": "python3"
  },
  "language_info": {
   "codemirror_mode": {
    "name": "ipython",
    "version": 3
   },
   "file_extension": ".py",
   "mimetype": "text/x-python",
   "name": "python",
   "nbconvert_exporter": "python",
   "pygments_lexer": "ipython3",
   "version": "3.11.7"
  }
 },
 "nbformat": 4,
 "nbformat_minor": 5
}
