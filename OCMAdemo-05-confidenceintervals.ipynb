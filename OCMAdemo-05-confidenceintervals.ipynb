{
 "cells": [
  {
   "cell_type": "markdown",
   "id": "dd525b06-9ba6-43ef-b720-42e387405f0e",
   "metadata": {
    "tags": []
   },
   "source": [
    "### Confidence Intervals\n",
    "\n",
    "The `norm.interval()` function is used to find a confidence interval for a normally distributed variable. The function takes the desired confidence level, the sample mean, and the standard error as parameters.\n",
    "\n",
    "A confidence interval can also be calculated from raw data. The following example imports data from ExamScores.csv into a DataFrame, calculates the sample mean, calculates the standard error based on a given population standard deviation, and calculates the  confidence interval."
   ]
  },
  {
   "cell_type": "code",
   "execution_count": 4,
   "id": "212fd7e0-219b-4e66-bf1b-839760ed3b6b",
   "metadata": {
    "tags": []
   },
   "outputs": [
    {
     "name": "stdout",
     "output_type": "stream",
     "text": [
      "(82.00704808782517, 83.39295191217484)\n"
     ]
    }
   ],
   "source": [
    "import scipy.stats as st\n",
    "import pandas as pd\n",
    "import math\n",
    "\n",
    "\n",
    "scores = pd.read_csv('ExamScores.csv')\n",
    "sigma = 2.5\n",
    "mean = scores['Exam1'].mean()\n",
    "stderr = sigma/math.sqrt(len(scores['Exam1']))\n",
    "print(st.norm.interval(0.95, mean, stderr))"
   ]
  },
  {
   "cell_type": "code",
   "execution_count": null,
   "id": "2d35a4d2-989a-4424-bf3b-70ceebdac52a",
   "metadata": {},
   "outputs": [],
   "source": []
  }
 ],
 "metadata": {
  "kernelspec": {
   "display_name": "Python 3 (ipykernel)",
   "language": "python",
   "name": "python3"
  },
  "language_info": {
   "codemirror_mode": {
    "name": "ipython",
    "version": 3
   },
   "file_extension": ".py",
   "mimetype": "text/x-python",
   "name": "python",
   "nbconvert_exporter": "python",
   "pygments_lexer": "ipython3",
   "version": "3.11.7"
  }
 },
 "nbformat": 4,
 "nbformat_minor": 5
}
